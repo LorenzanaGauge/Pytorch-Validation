{
 "cells": [
  {
   "cell_type": "markdown",
   "metadata": {},
   "source": [
    "Comenzamos definiendo dos funciones, las cuales nos permitirán conocer las versiones que tenemos descargados en nuestro entorno de trabajo. Lo más interesante de estas funciones, es que no necesitas si quiera importarlas. Platform y pkg_resources ya vienen por defualt en Python, así que no necesitas instalarlas por aparte. Torch sí lo necesitas instalar. Revisa el pdf sobre la instalación de Torch para ver detalles de cúal versión instalar"
   ]
  },
  {
   "cell_type": "code",
   "execution_count": 1,
   "metadata": {},
   "outputs": [],
   "source": [
    "from platform import python_version\n",
    "import pkg_resources\n",
    "import torch\n",
    "def version_library(programa):\n",
    "    return pkg_resources.get_distribution(programa).version\n",
    "\n",
    "\n",
    "def valida_install(programa):\n",
    "    try :\n",
    "        ref=version_library(str(programa))\n",
    "    except Exception as error:\n",
    "        error_string = repr(error)\n",
    "        #print(error_string)\n",
    "        ref=False\n",
    "    if ref == False:\n",
    "        print(\"Necesitas instalar\",programa)\n",
    "    else:\n",
    "        print(\"La versión del programa\", programa, \"es \", ref)\n",
    "    return ref"
   ]
  },
  {
   "cell_type": "markdown",
   "metadata": {},
   "source": [
    "La idea de este notebook es que podamos verificar que la instalación que hiciste de Pytorch y sus respectivos complementos, sea compatible con la versión de CUDA con la que estés trabajando. Para ello, necesitamos verificar las versiones de los programas. Vamos a crear un Switch-Case, pero en Python(esta función no está definida en Python. Por eso, debemos ingeniárnoslas para crearlo). Comenzamos creando un diccionario, en donde a cada versión de CUDA, asociamos como valor las posibles versiones de Pytorch compatibles con esa versión de CUDA"
   ]
  },
  {
   "cell_type": "code",
   "execution_count": 2,
   "metadata": {},
   "outputs": [],
   "source": [
    "cuda_dic={\n",
    "        \"11.1\":\"1.8.0\",\n",
    "        \"11.0\":\"1.7.1,1.7.0\",\n",
    "        \"10.2\":\"1.8.0,1.7.1,1.7.0,1.6.0,1.5.1,1.5.0\",\n",
    "        \"10.1\":\"1.7.1,1.7.0,1.6.0,1.5.1,1.5.0,1.4.0\",\n",
    "        \"10.0\":\"1.2.0,1..1.0,1.0.1,1.0.0\",\n",
    "        \"9.2\":\"1.7.1,1.7.0,1.6.0,1.5.1,1.5.0,1.4.0,1.2.0\",\n",
    "        \"9.1\":\"0.4.1,0.4.0,0.3.1,0.3.0,0.2.0,0.1.12\",\n",
    "        \"9.0\":\"1.2.0,1.1.0,1.0.1,1.0.0,0.4.1,0.4.0,0.3.0,0.2.0,0.1.12\",\n",
    "        \"8.0\":\"0.4.1,0.4.0,0.3.1,0.3.0,0.2.0,0.1.12\",\n",
    "        \"7.5\":\"0.4.1,0.4.0,0.3.1,0.3.0,0.2.0,0.1.12\"\n",
    "    }\n"
   ]
  },
  {
   "cell_type": "code",
   "execution_count": 3,
   "metadata": {},
   "outputs": [],
   "source": [
    "def cuda_comp(cuda):\n",
    "    return cuda_dic.get(cuda, \"La versión de CUDA {} no es compatible con Pytorch. Intenta instalar una versión diferente\".format(cuda))"
   ]
  },
  {
   "cell_type": "code",
   "execution_count": 4,
   "metadata": {},
   "outputs": [],
   "source": [
    "def valida_Pytorch(v_CUDA):\n",
    "    versiones=cuda_comp(v_CUDA)\n",
    "    \n",
    "    if len(versiones)>70: #es decir, que tenemos una versión de CUDA que no es compatible con Pytorch\n",
    "        print(versiones)\n",
    "    else:\n",
    "        j=0\n",
    "        for i in versiones.split(\",\"): #como podemos tener múltiples posibilidades, partimos cada opción\n",
    "            if i == version_library(\"torch\"): #si una de las posibles opciones es la que tenemos instalada :\n",
    "                j+=1\n",
    "            else:\n",
    "                continue\n",
    "        if j ==1:\n",
    "            print(\"Las versiones de CUDA y Pytorch son compatibles\")\n",
    "        else:\n",
    "            print(\"Versiones incompatibles de CUDA y PyTorch \\n\")\n",
    "            print(\"La(s) versión(es) de Pytorch compatible(s) para la versión {} de CUDA es (son) {}\".format(v_CUDA, cuda_DIC[v_CUDA]))\n",
    "    "
   ]
  },
  {
   "cell_type": "markdown",
   "metadata": {},
   "source": [
    "Ahora, vamos a crear otro diccionario, que nos relaciona las versiones de Pytorch con sus versiones compatibles de Torchvision "
   ]
  },
  {
   "cell_type": "code",
   "execution_count": 5,
   "metadata": {},
   "outputs": [],
   "source": [
    "ver_vision={\n",
    "    \"1.8.0\":\"0.9.0\",\n",
    "    \"1.7.1\":\"0.8.2\",\n",
    "    \"1.7.0\":\"0.8.0\",\n",
    "    \"1.6.0\":\"0.7.0\",\n",
    "    \"1.5.1\":\"0.6.1\",\n",
    "    \"1.5.0\":\"0.6.0\",\n",
    "    \"1.4.0\":\"0.5.0\",\n",
    "    \"1.2.0\":\"0.4.0\",\n",
    "    \"1.1.0\":\"0.3.0\",\n",
    "    \"1.0.1\":\"0.2.2\",\n",
    "    \"1.0.0\":\"0.2.1\",\n",
    "}\n",
    "def vision_comp(pytorch):\n",
    "    return ver_vision.get(pytorch, \"La versión de Pytorch {} no es compatible con Torchvision\".format(pytorch))"
   ]
  },
  {
   "cell_type": "code",
   "execution_count": 6,
   "metadata": {},
   "outputs": [],
   "source": [
    "def valida_Vision(v_pytorch):\n",
    "    ref=valida_install(\"torchvision\")\n",
    "    if ref==False:\n",
    "        if len(vision_comp(v_pytorch)) > 10:\n",
    "            print(vision_comp(v_pytorch))\n",
    "        else:\n",
    "            print(\"La versión de Torchvision que puedes descargar es {}\".format(ver_vision[v_pytorch]))\n",
    "    else:\n",
    "        if ref==vision_comp(v_pytorch):\n",
    "            print(\"Las versiones de PyTorch y Torchvision son compatibles\")\n",
    "        else:\n",
    "            if len(ver_vision[v_pytorch]) > 10:\n",
    "                print(ver_vision)\n",
    "            else:\n",
    "                print(\"Versiones incompatibles de Torchvision y Torch\\ n\")\n",
    "                print(\"La versión de PyTorch que tienes instalada es {}\".format(v_pytorch))\n",
    "                print(\"La versión de Torchvision compatible es {}\".format(ver_vision[v_pytorch]))"
   ]
  },
  {
   "cell_type": "markdown",
   "metadata": {},
   "source": [
    "Y lo mismo para Torchaudio"
   ]
  },
  {
   "cell_type": "code",
   "execution_count": 7,
   "metadata": {},
   "outputs": [],
   "source": [
    "ver_audio={\n",
    "    \"1.8.0\":\"0.8.0\",\n",
    "    \"1.7.1\":\"0.7.2\",\n",
    "    \"1.7.0\":\"0.7.0\"\n",
    "}\n",
    "def audio_comp(pytorch):\n",
    "     return(ver_audio.get(pytorch,\"La versión de PyTorch {} no es compatible con Torchaudio\".format(pytorch)))"
   ]
  },
  {
   "cell_type": "code",
   "execution_count": 8,
   "metadata": {},
   "outputs": [],
   "source": [
    "def valida_audio(v_pytorch):\n",
    "    ref=valida_install(\"torchaudio\")\n",
    "    if ref==False:\n",
    "        if len(audio_comp(v_pytorch)) > 10:\n",
    "            print(audio_comp(v_pytorch))\n",
    "        else:\n",
    "            print(\"La versión de Torchaudio que puedes descargar es {}\".format(ver_audio[v_pytorch]))\n",
    "    else:\n",
    "        if ref==audio_comp(v_pytorch):\n",
    "            print(\"Las versiones de PyTorch y Torchaudio son compatibles\")\n",
    "        else:\n",
    "            if len(ver_vision[v_pytorch]) > 10:\n",
    "                print(ver_vision)\n",
    "            else:\n",
    "                print(\"Versiones incompatibles de Torchaudio y Torch\\ n\")\n",
    "                print(\"La versión de PyTorch que tienes instalada es {}\".format(v_pytorch))\n",
    "                print(\"La versión de Torchaudio compatible es {}\".format(ver_audio[v_pytorch]))"
   ]
  },
  {
   "cell_type": "code",
   "execution_count": 9,
   "metadata": {},
   "outputs": [],
   "source": [
    "def valida_CUDA_Torch():\n",
    "    ref_CUDA=torch.version.cuda\n",
    "    ref_PT=version_library(\"torch\")\n",
    "    valida_Pytorch(ref_CUDA)\n",
    "    valida_Vision(ref_PT)\n",
    "    valida_audio(ref_PT)"
   ]
  },
  {
   "cell_type": "code",
   "execution_count": 10,
   "metadata": {},
   "outputs": [
    {
     "name": "stdout",
     "output_type": "stream",
     "text": [
      "Las versiones de CUDA y Pytorch son compatibles\n",
      "La versión del programa torchvision es  0.8.2\n",
      "Las versiones de PyTorch y Torchvision son compatibles\n",
      "La versión del programa torchaudio es  0.7.2\n",
      "Las versiones de PyTorch y Torchaudio son compatibles\n"
     ]
    }
   ],
   "source": [
    "valida_CUDA_Torch()"
   ]
  },
  {
   "cell_type": "code",
   "execution_count": 12,
   "metadata": {},
   "outputs": [
    {
     "name": "stdout",
     "output_type": "stream",
     "text": [
      "La versión del programa torch es  1.7.1\n"
     ]
    },
    {
     "data": {
      "text/plain": [
       "'1.7.1'"
      ]
     },
     "execution_count": 12,
     "metadata": {},
     "output_type": "execute_result"
    }
   ],
   "source": [
    "valida_install(\"torch\")"
   ]
  },
  {
   "cell_type": "code",
   "execution_count": null,
   "metadata": {},
   "outputs": [],
   "source": []
  }
 ],
 "metadata": {
  "kernelspec": {
   "display_name": "Python 3",
   "language": "python",
   "name": "python3"
  },
  "language_info": {
   "codemirror_mode": {
    "name": "ipython",
    "version": 3
   },
   "file_extension": ".py",
   "mimetype": "text/x-python",
   "name": "python",
   "nbconvert_exporter": "python",
   "pygments_lexer": "ipython3",
   "version": "3.8.8"
  }
 },
 "nbformat": 4,
 "nbformat_minor": 4
}
